{
 "cells": [
  {
   "cell_type": "code",
   "execution_count": 1,
   "id": "5130114f-ddae-4929-8295-f88a21de1a59",
   "metadata": {
    "tags": []
   },
   "outputs": [
    {
     "name": "stdout",
     "output_type": "stream",
     "text": [
      "Requirement already satisfied: pyyaml in /lustrehome/gvino/.local/lib/python3.8/site-packages (6.0.1)\n",
      "Requirement already satisfied: simplejson in /lustrehome/gvino/.local/lib/python3.8/site-packages (3.19.2)\n",
      "\u001b[33mDEPRECATION: cudf 23.2.0 has a non-standard dependency specifier cuda-python>=12.*. pip 24.1 will enforce this behaviour change. A possible replacement is to upgrade to a newer version of cudf or contact the author to suggest that they release a version with a conforming dependency specifiers. Discussion can be found at https://github.com/pypa/pip/issues/12063\u001b[0m\u001b[33m\n",
      "\u001b[0m\u001b[33mDEPRECATION: pylibraft 23.2.0 has a non-standard dependency specifier cuda-python>=12.*. pip 24.1 will enforce this behaviour change. A possible replacement is to upgrade to a newer version of pylibraft or contact the author to suggest that they release a version with a conforming dependency specifiers. Discussion can be found at https://github.com/pypa/pip/issues/12063\u001b[0m\u001b[33m\n",
      "\u001b[0m\u001b[33mDEPRECATION: rmm 23.2.0 has a non-standard dependency specifier cuda-python>=12.*. pip 24.1 will enforce this behaviour change. A possible replacement is to upgrade to a newer version of rmm or contact the author to suggest that they release a version with a conforming dependency specifiers. Discussion can be found at https://github.com/pypa/pip/issues/12063\u001b[0m\u001b[33m\n",
      "\u001b[0mNote: you may need to restart the kernel to use updated packages.\n"
     ]
    }
   ],
   "source": [
    "%pip install --user pyyaml simplejson"
   ]
  },
  {
   "cell_type": "code",
   "execution_count": 4,
   "id": "7b6e9f2b-247e-48dc-992e-d7a9b2d69fb9",
   "metadata": {},
   "outputs": [],
   "source": [
    "from chronos_api import chronosAPI\n",
    "import yaml"
   ]
  },
  {
   "cell_type": "code",
   "execution_count": 5,
   "id": "fdf52872-a963-4c45-8984-5de67a14c61e",
   "metadata": {},
   "outputs": [],
   "source": [
    "# --- LOAD CHRONOS CONFIGURATION ---\n",
    "with open(\"config.yaml\", \"r\") as file:\n",
    "    chronos_data = yaml.safe_load(file)"
   ]
  },
  {
   "cell_type": "code",
   "execution_count": 6,
   "id": "9e1ad1c1-0158-4567-971d-755fc34dc14e",
   "metadata": {},
   "outputs": [],
   "source": [
    "# --- CHRONOS INSTANCE ---\n",
    "client = chronosAPI(**chronos_data)"
   ]
  },
  {
   "cell_type": "code",
   "execution_count": 7,
   "id": "b92a0783-91e5-4022-b4ab-255227b47e6a",
   "metadata": {
    "tags": []
   },
   "outputs": [
    {
     "data": {
      "text/html": [
       "<div>\n",
       "<style scoped>\n",
       "    .dataframe tbody tr th:only-of-type {\n",
       "        vertical-align: middle;\n",
       "    }\n",
       "\n",
       "    .dataframe tbody tr th {\n",
       "        vertical-align: top;\n",
       "    }\n",
       "\n",
       "    .dataframe thead th {\n",
       "        text-align: right;\n",
       "    }\n",
       "</style>\n",
       "<table border=\"1\" class=\"dataframe\">\n",
       "  <thead>\n",
       "    <tr style=\"text-align: right;\">\n",
       "      <th></th>\n",
       "      <th>name</th>\n",
       "      <th>successCount</th>\n",
       "      <th>errorCount</th>\n",
       "      <th>lastSuccess</th>\n",
       "      <th>lastError</th>\n",
       "      <th>cpus</th>\n",
       "      <th>mem</th>\n",
       "      <th>gpus</th>\n",
       "      <th>retries</th>\n",
       "    </tr>\n",
       "  </thead>\n",
       "  <tbody>\n",
       "    <tr>\n",
       "      <th>0</th>\n",
       "      <td>gvino-SageConv-short-2024-3-1-17-23-35-484887</td>\n",
       "      <td>1</td>\n",
       "      <td>0</td>\n",
       "      <td>2024-03-01T17:30:11.286Z</td>\n",
       "      <td></td>\n",
       "      <td>16.0</td>\n",
       "      <td>65536.0</td>\n",
       "      <td>1</td>\n",
       "      <td>4</td>\n",
       "    </tr>\n",
       "  </tbody>\n",
       "</table>\n",
       "</div>"
      ],
      "text/plain": [
       "                                            name  successCount  errorCount  \\\n",
       "0  gvino-SageConv-short-2024-3-1-17-23-35-484887             1           0   \n",
       "\n",
       "                lastSuccess lastError  cpus      mem  gpus  retries  \n",
       "0  2024-03-01T17:30:11.286Z            16.0  65536.0     1        4  "
      ]
     },
     "execution_count": 7,
     "metadata": {},
     "output_type": "execute_result"
    }
   ],
   "source": [
    "# --- COLLECT AND SHOW JOB LIST ---\n",
    "import pandas as pd\n",
    "retrieved_job_list = client.list()\n",
    "if len(retrieved_job_list) > 0:\n",
    "    df = pd.DataFrame.from_records(retrieved_job_list)[[\"name\",\"successCount\",\"errorCount\",\"lastSuccess\",\"lastError\",\"cpus\",\"mem\",\"gpus\",\"retries\"]]\n",
    "else:\n",
    "    df = pd.DataFrame()\n",
    "df"
   ]
  },
  {
   "cell_type": "code",
   "execution_count": null,
   "id": "cd5442a3-a22a-45d0-a47d-dc8545816b94",
   "metadata": {},
   "outputs": [],
   "source": []
  }
 ],
 "metadata": {
  "kernelspec": {
   "display_name": "Python 3 (ipykernel)",
   "language": "python",
   "name": "python3"
  },
  "language_info": {
   "codemirror_mode": {
    "name": "ipython",
    "version": 3
   },
   "file_extension": ".py",
   "mimetype": "text/x-python",
   "name": "python",
   "nbconvert_exporter": "python",
   "pygments_lexer": "ipython3",
   "version": "3.8.10"
  }
 },
 "nbformat": 4,
 "nbformat_minor": 5
}
