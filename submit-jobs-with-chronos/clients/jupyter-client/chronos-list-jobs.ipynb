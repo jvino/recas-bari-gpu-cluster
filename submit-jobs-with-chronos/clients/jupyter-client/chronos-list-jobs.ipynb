{
 "cells": [
  {
   "cell_type": "code",
   "execution_count": null,
   "id": "5130114f-ddae-4929-8295-f88a21de1a59",
   "metadata": {
    "tags": []
   },
   "outputs": [],
   "source": [
    "%pip install --user pyyaml simplejson"
   ]
  },
  {
   "cell_type": "code",
   "execution_count": null,
   "id": "7b6e9f2b-247e-48dc-992e-d7a9b2d69fb9",
   "metadata": {},
   "outputs": [],
   "source": [
    "from chronos_api import chronosAPI\n",
    "import yaml"
   ]
  },
  {
   "cell_type": "code",
   "execution_count": null,
   "id": "fdf52872-a963-4c45-8984-5de67a14c61e",
   "metadata": {},
   "outputs": [],
   "source": [
    "# --- LOAD CHRONOS CONFIGURATION ---\n",
    "with open(\"config.yaml\", \"r\") as file:\n",
    "    chronos_data = yaml.safe_load(file)"
   ]
  },
  {
   "cell_type": "code",
   "execution_count": null,
   "id": "9e1ad1c1-0158-4567-971d-755fc34dc14e",
   "metadata": {},
   "outputs": [],
   "source": [
    "# --- CHRONOS INSTANCE ---\n",
    "client = chronosAPI(**chronos_data)"
   ]
  },
  {
   "cell_type": "code",
   "execution_count": null,
   "id": "b92a0783-91e5-4022-b4ab-255227b47e6a",
   "metadata": {
    "tags": []
   },
   "outputs": [],
   "source": [
    "# --- COLLECT AND SHOW JOB LIST ---\n",
    "import pandas as pd\n",
    "retrieved_job_list = client.list()\n",
    "if len(retrieved_job_list) > 0:\n",
    "    df = pd.DataFrame.from_records(retrieved_job_list)[[\"name\",\"successCount\",\"errorCount\",\"lastSuccess\",\"lastError\",\"cpus\",\"mem\",\"gpus\",\"retries\"]]\n",
    "else:\n",
    "    df = pd.DataFrame()\n",
    "df"
   ]
  }
 ],
 "metadata": {
  "kernelspec": {
   "display_name": "Python 3 (ipykernel)",
   "language": "python",
   "name": "python3"
  },
  "language_info": {
   "codemirror_mode": {
    "name": "ipython",
    "version": 3
   },
   "file_extension": ".py",
   "mimetype": "text/x-python",
   "name": "python",
   "nbconvert_exporter": "python",
   "pygments_lexer": "ipython3",
   "version": "3.8.10"
  }
 },
 "nbformat": 4,
 "nbformat_minor": 5
}
