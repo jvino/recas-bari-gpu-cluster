{
 "cells": [
  {
   "cell_type": "code",
   "execution_count": 1,
   "id": "5130114f-ddae-4929-8295-f88a21de1a59",
   "metadata": {
    "tags": []
   },
   "outputs": [
    {
     "name": "stdout",
     "output_type": "stream",
     "text": [
      "Requirement already satisfied: pyyaml in /lustrehome/gvino/.local/lib/python3.8/site-packages (6.0.1)\n",
      "\u001b[33mDEPRECATION: cudf 23.2.0 has a non-standard dependency specifier cuda-python>=12.*. pip 24.1 will enforce this behaviour change. A possible replacement is to upgrade to a newer version of cudf or contact the author to suggest that they release a version with a conforming dependency specifiers. Discussion can be found at https://github.com/pypa/pip/issues/12063\u001b[0m\u001b[33m\n",
      "\u001b[0m\u001b[33mDEPRECATION: pylibraft 23.2.0 has a non-standard dependency specifier cuda-python>=12.*. pip 24.1 will enforce this behaviour change. A possible replacement is to upgrade to a newer version of pylibraft or contact the author to suggest that they release a version with a conforming dependency specifiers. Discussion can be found at https://github.com/pypa/pip/issues/12063\u001b[0m\u001b[33m\n",
      "\u001b[0m\u001b[33mDEPRECATION: rmm 23.2.0 has a non-standard dependency specifier cuda-python>=12.*. pip 24.1 will enforce this behaviour change. A possible replacement is to upgrade to a newer version of rmm or contact the author to suggest that they release a version with a conforming dependency specifiers. Discussion can be found at https://github.com/pypa/pip/issues/12063\u001b[0m\u001b[33m\n",
      "\u001b[0mNote: you may need to restart the kernel to use updated packages.\n"
     ]
    }
   ],
   "source": [
    "%pip install --user pyyaml simplejson"
   ]
  },
  {
   "cell_type": "code",
   "execution_count": 2,
   "id": "7b6e9f2b-247e-48dc-992e-d7a9b2d69fb9",
   "metadata": {},
   "outputs": [],
   "source": [
    "from chronos_api import chronosAPI\n",
    "import yaml"
   ]
  },
  {
   "cell_type": "code",
   "execution_count": 3,
   "id": "fdf52872-a963-4c45-8984-5de67a14c61e",
   "metadata": {},
   "outputs": [],
   "source": [
    "# --- LOAD CHRONOS CONFIGURATION ---\n",
    "with open(\"config.yaml\", \"r\") as file:\n",
    "    chronos_data = yaml.safe_load(file)"
   ]
  },
  {
   "cell_type": "code",
   "execution_count": 4,
   "id": "9e1ad1c1-0158-4567-971d-755fc34dc14e",
   "metadata": {},
   "outputs": [],
   "source": [
    "# --- CHRONOS INSTANCE ---\n",
    "client = chronosAPI(**chronos_data)"
   ]
  },
  {
   "cell_type": "code",
   "execution_count": 5,
   "id": "b92a0783-91e5-4022-b4ab-255227b47e6a",
   "metadata": {
    "tags": []
   },
   "outputs": [
    {
     "name": "stdout",
     "output_type": "stream",
     "text": [
      "Job 'gvino-SageConv-short-2024-3-1-12-13-54-937541' DELETED\n",
      "Deleted 1 job(s)\n"
     ]
    }
   ],
   "source": [
    "# --- DELETE COMPLETED JOBS ---\n",
    "client.delete_completed_jobs()"
   ]
  }
 ],
 "metadata": {
  "kernelspec": {
   "display_name": "Python 3 (ipykernel)",
   "language": "python",
   "name": "python3"
  },
  "language_info": {
   "codemirror_mode": {
    "name": "ipython",
    "version": 3
   },
   "file_extension": ".py",
   "mimetype": "text/x-python",
   "name": "python",
   "nbconvert_exporter": "python",
   "pygments_lexer": "ipython3",
   "version": "3.8.10"
  }
 },
 "nbformat": 4,
 "nbformat_minor": 5
}
