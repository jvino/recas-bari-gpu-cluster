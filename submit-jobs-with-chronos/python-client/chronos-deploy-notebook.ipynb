{
 "cells": [
  {
   "cell_type": "code",
   "execution_count": null,
   "id": "5130114f-ddae-4929-8295-f88a21de1a59",
   "metadata": {
    "tags": []
   },
   "outputs": [],
   "source": [
    "%pip install --user pyyaml simplejson"
   ]
  },
  {
   "cell_type": "code",
   "execution_count": null,
   "id": "7b6e9f2b-247e-48dc-992e-d7a9b2d69fb9",
   "metadata": {},
   "outputs": [],
   "source": [
    "from chronos_api import chronosAPI\n",
    "import yaml"
   ]
  },
  {
   "cell_type": "code",
   "execution_count": null,
   "id": "fdf52872-a963-4c45-8984-5de67a14c61e",
   "metadata": {},
   "outputs": [],
   "source": [
    "# --- LOAD CHRONOS CONFIGURATION ---\n",
    "with open(\"config.yaml\", \"r\") as file:\n",
    "    chronos_data = yaml.safe_load(file)"
   ]
  },
  {
   "cell_type": "code",
   "execution_count": null,
   "id": "9e1ad1c1-0158-4567-971d-755fc34dc14e",
   "metadata": {},
   "outputs": [],
   "source": [
    "# --- CHRONOS INSTANCE ---\n",
    "client = chronosAPI(**chronos_data)"
   ]
  },
  {
   "cell_type": "code",
   "execution_count": null,
   "id": "b92a0783-91e5-4022-b4ab-255227b47e6a",
   "metadata": {
    "tags": []
   },
   "outputs": [],
   "source": [
    "# --- SET JOB CONFIGURATION ---\n",
    "docker_image = \"fake-image\"\n",
    "paths_to_mount = [\"/path/to/mount\"]\n",
    "nb_path = \"/absolute/path/to/notebook.ipynb\"\n",
    "job_name = \"job-name\"\n",
    "resources = { \"cpus\": 4,\n",
    "              \"mem\": 4096,\n",
    "              \"disk\": 0,\n",
    "              \"gpus\": 0}"
   ]
  },
  {
   "cell_type": "code",
   "execution_count": null,
   "id": "784bccf4-dd64-46ed-8cdd-98926cab984d",
   "metadata": {},
   "outputs": [],
   "source": [
    "# --- CREATE SageConv JOB ---\n",
    "l_jobs = list()\n",
    "for i in range(1):\n",
    "    job_sc = client.create_notebook_job(nb_path,\n",
    "                                        job_name, \n",
    "                                        docker_image, \n",
    "                                        paths_to_mount, \n",
    "                                        resources)\n",
    "    #print_pretty(job_sc)\n",
    "    l_jobs.append(job_sc)"
   ]
  },
  {
   "cell_type": "code",
   "execution_count": null,
   "id": "7fb2e8b7-df5a-47db-bb2b-267d2ca15ba0",
   "metadata": {},
   "outputs": [],
   "source": [
    "# --- SUBMIT JOBS ---\n",
    "client.send_jobs(l_jobs)"
   ]
  }
 ],
 "metadata": {
  "kernelspec": {
   "display_name": "Python 3 (ipykernel)",
   "language": "python",
   "name": "python3"
  },
  "language_info": {
   "codemirror_mode": {
    "name": "ipython",
    "version": 3
   },
   "file_extension": ".py",
   "mimetype": "text/x-python",
   "name": "python",
   "nbconvert_exporter": "python",
   "pygments_lexer": "ipython3",
   "version": "3.8.10"
  }
 },
 "nbformat": 4,
 "nbformat_minor": 5
}
